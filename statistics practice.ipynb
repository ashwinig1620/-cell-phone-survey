{
 "cells": [
  {
   "cell_type": "code",
   "execution_count": 1,
   "metadata": {},
   "outputs": [
    {
     "name": "stdout",
     "output_type": "stream",
     "text": [
      "Collecting statistics\n",
      "  Downloading statistics-1.0.3.5.tar.gz (8.3 kB)\n",
      "  Preparing metadata (setup.py): started\n",
      "  Preparing metadata (setup.py): finished with status 'done'\n",
      "Collecting docutils>=0.3\n",
      "  Downloading docutils-0.20.1-py3-none-any.whl (572 kB)\n",
      "     ------------------------------------ 572.7/572.7 kB 423.5 kB/s eta 0:00:00\n",
      "Installing collected packages: docutils, statistics\n",
      "  Running setup.py install for statistics: started\n",
      "  Running setup.py install for statistics: finished with status 'done'\n",
      "Successfully installed docutils-0.20.1 statistics-1.0.3.5\n",
      "Note: you may need to restart the kernel to use updated packages.\n"
     ]
    },
    {
     "name": "stderr",
     "output_type": "stream",
     "text": [
      "  WARNING: The script docutils.exe is installed in 'c:\\Users\\Dell\\AppData\\Local\\Programs\\Python\\Python311\\Scripts' which is not on PATH.\n",
      "  Consider adding this directory to PATH or, if you prefer to suppress this warning, use --no-warn-script-location.\n",
      "  DEPRECATION: statistics is being installed using the legacy 'setup.py install' method, because it does not have a 'pyproject.toml' and the 'wheel' package is not installed. pip 23.1 will enforce this behaviour change. A possible replacement is to enable the '--use-pep517' option. Discussion can be found at https://github.com/pypa/pip/issues/8559\n",
      "\n",
      "[notice] A new release of pip available: 22.3.1 -> 23.1.2\n",
      "[notice] To update, run: python.exe -m pip install --upgrade pip\n"
     ]
    }
   ],
   "source": [
    "pip install statistics"
   ]
  },
  {
   "cell_type": "code",
   "execution_count": 3,
   "metadata": {},
   "outputs": [],
   "source": [
    "import numpy as np\n",
    "import pandas as pd\n",
    "import statistics as stats\n",
    "\n"
   ]
  },
  {
   "cell_type": "code",
   "execution_count": 5,
   "metadata": {},
   "outputs": [
    {
     "data": {
      "text/plain": [
       "164.0"
      ]
     },
     "execution_count": 5,
     "metadata": {},
     "output_type": "execute_result"
    }
   ],
   "source": [
    "#2  Height of 7 students (in cm) is given below. What is the median? (168 170 169 160 162 164 162).\n",
    "import numpy as np\n",
    "x = [168 ,170, 169, 160 ,162 ,164 ,162]\n",
    "np.median(x)"
   ]
  },
  {
   "cell_type": "code",
   "execution_count": 4,
   "metadata": {},
   "outputs": [
    {
     "data": {
      "text/plain": [
       "89"
      ]
     },
     "execution_count": 4,
     "metadata": {},
     "output_type": "execute_result"
    }
   ],
   "source": [
    "#3Below are the observations of the marks of a student. Find the value of mode.(84 85 89 92 93 89 87 89 92)\n",
    "\n",
    "import numpy as np\n",
    "import statistics as stats\n",
    "y=[84,85,89,92,93,89,87,89,92]\n",
    "stats.mode(y)"
   ]
  },
  {
   "cell_type": "code",
   "execution_count": 6,
   "metadata": {},
   "outputs": [
    {
     "name": "stdout",
     "output_type": "stream",
     "text": [
      "Mean of marks: 6.6\n"
     ]
    }
   ],
   "source": [
    "#4. From the table given below, what is the mean of marks obtained by 20 students?\n",
    "\n",
    "import numpy as np\n",
    "\n",
    "marks = np.array([3, 4, 5, 6, 7, 8, 9, 10])\n",
    "students = np.array([1, 2, 2, 4, 5, 3, 2, 1])\n",
    "\n",
    "product = marks * students\n",
    "mean = np.sum(product) / np.sum(students)\n",
    "\n",
    "print(\"Mean of marks:\", mean)\n"
   ]
  },
  {
   "cell_type": "code",
   "execution_count": 5,
   "metadata": {},
   "outputs": [
    {
     "name": "stdout",
     "output_type": "stream",
     "text": [
      "^C\n",
      "Note: you may need to restart the kernel to use updated packages.\n"
     ]
    }
   ],
   "source": [
    "pip install scipy"
   ]
  },
  {
   "cell_type": "code",
   "execution_count": 1,
   "metadata": {},
   "outputs": [
    {
     "name": "stdout",
     "output_type": "stream",
     "text": [
      "Probability: 0.4087887802741321\n"
     ]
    }
   ],
   "source": [
    "#5  For a certain type of computer, the length of time between charges of the battery is normally distributed with a mean of 50 hours and a\n",
    "#standard deviation of 15 hours. John owns one of these computers and wants to know the probability that the length of time will be\n",
    "#between 50 and 70 hours.\n",
    "\n",
    "import scipy as sp\n",
    "from scipy.stats import norm\n",
    "\n",
    "mean = 50\n",
    "std_dev = 15\n",
    "\n",
    "\n",
    "prob_50 = (50 - mean) / std_dev\n",
    "prob_70 = (70 - mean) / std_dev\n",
    "\n",
    "\n",
    "probability = norm.cdf(prob_70) - norm.cdf(prob_50)\n",
    "\n",
    "print(\"Probability:\", probability)\n"
   ]
  },
  {
   "cell_type": "code",
   "execution_count": 2,
   "metadata": {},
   "outputs": [
    {
     "data": {
      "text/plain": [
       "13"
      ]
     },
     "execution_count": 2,
     "metadata": {},
     "output_type": "execute_result"
    }
   ],
   "source": [
    "#6  Find the range of the following. g = [10, 23, 12, 21, 14, 17, 16, 11, 15, 19]\n",
    "\n",
    "import numpy as np\n",
    "g = [10, 23, 12, 21, 14, 17, 16, 11, 15, 19]\n",
    "\n",
    "range_g = max(g) - min(g)\n",
    "range_g\n"
   ]
  },
  {
   "cell_type": "code",
   "execution_count": 3,
   "metadata": {},
   "outputs": [
    {
     "name": "stdout",
     "output_type": "stream",
     "text": [
      "Probability that the detected spam email is non-spam: 0.04807692307692308\n"
     ]
    }
   ],
   "source": [
    "#7 . It is estimated that 50% of emails are spam emails. Some software has been applied to filter these spam emails before they reach your\n",
    "#inbox. A certain brand of software claims that it can detect 99% of spam emails, and the probability for a false positive (a non-spam\n",
    "#email detected as spam) is 5%. Now if an email is detected as spam,then what is the probability that it is in fact a non-spam email?\n",
    "\n",
    "P_spam = 0.50\n",
    "P_detect_spam_given_spam = 0.99\n",
    "P_detect_spam_given_nonspam = 0.05\n",
    "\n",
    "P_nonspam = 1 - P_spam\n",
    "\n",
    "# Applying Bayes' theorem\n",
    "P_nonspam_given_detect_spam = (P_detect_spam_given_nonspam * P_nonspam) / ((P_detect_spam_given_nonspam * P_nonspam) + (P_detect_spam_given_spam * P_spam))\n",
    "\n",
    "print(\"Probability that the detected spam email is non-spam:\", P_nonspam_given_detect_spam)\n"
   ]
  },
  {
   "cell_type": "code",
   "execution_count": 4,
   "metadata": {},
   "outputs": [
    {
     "name": "stdout",
     "output_type": "stream",
     "text": [
      "Lower quartile: 12.75\n"
     ]
    }
   ],
   "source": [
    "#8 Given the following distribution of returns, determine the lower quartile:{10 25 12 21 19 17 16 11 15 19}\n",
    "\n",
    "import numpy as np\n",
    "\n",
    "returns = np.array([10, 25, 12, 21, 19, 17, 16, 11, 15, 19])\n",
    "\n",
    "lower_quartile = np.percentile(returns, 25)\n",
    "\n",
    "print(\"Lower quartile:\", lower_quartile)\n"
   ]
  },
  {
   "cell_type": "code",
   "execution_count": 56,
   "metadata": {},
   "outputs": [
    {
     "name": "stdout",
     "output_type": "stream",
     "text": [
      "Variability (Standard Deviation): 2.29128784747792\n"
     ]
    }
   ],
   "source": [
    "#9 For a Binomial distribution, the number of trials(n) is 25, and the probability of success is 0.3. What’s the variability of the distribution?\n",
    "\n",
    "import math\n",
    "\n",
    "n = 25\n",
    "p = 0.3\n",
    "\n",
    "variability = math.sqrt(n * p * (1 - p))\n",
    "\n",
    "print(\"Variability (Standard Deviation):\", variability)\n"
   ]
  },
  {
   "cell_type": "code",
   "execution_count": 13,
   "metadata": {},
   "outputs": [
    {
     "data": {
      "text/html": [
       "<div>\n",
       "<style scoped>\n",
       "    .dataframe tbody tr th:only-of-type {\n",
       "        vertical-align: middle;\n",
       "    }\n",
       "\n",
       "    .dataframe tbody tr th {\n",
       "        vertical-align: top;\n",
       "    }\n",
       "\n",
       "    .dataframe thead th {\n",
       "        text-align: right;\n",
       "    }\n",
       "</style>\n",
       "<table border=\"1\" class=\"dataframe\">\n",
       "  <thead>\n",
       "    <tr style=\"text-align: right;\">\n",
       "      <th></th>\n",
       "      <th>Gender</th>\n",
       "      <th>Carrier</th>\n",
       "      <th>Type</th>\n",
       "      <th>Usage</th>\n",
       "      <th>Signal strength</th>\n",
       "      <th>Value for the Dollar</th>\n",
       "      <th>Customer Service</th>\n",
       "    </tr>\n",
       "  </thead>\n",
       "  <tbody>\n",
       "    <tr>\n",
       "      <th>0</th>\n",
       "      <td>M</td>\n",
       "      <td>AT&amp;T</td>\n",
       "      <td>Smart</td>\n",
       "      <td>High</td>\n",
       "      <td>5</td>\n",
       "      <td>4</td>\n",
       "      <td>4</td>\n",
       "    </tr>\n",
       "    <tr>\n",
       "      <th>1</th>\n",
       "      <td>M</td>\n",
       "      <td>AT&amp;T</td>\n",
       "      <td>Smart</td>\n",
       "      <td>High</td>\n",
       "      <td>5</td>\n",
       "      <td>4</td>\n",
       "      <td>2</td>\n",
       "    </tr>\n",
       "    <tr>\n",
       "      <th>2</th>\n",
       "      <td>M</td>\n",
       "      <td>AT&amp;T</td>\n",
       "      <td>Smart</td>\n",
       "      <td>Average</td>\n",
       "      <td>4</td>\n",
       "      <td>4</td>\n",
       "      <td>4</td>\n",
       "    </tr>\n",
       "    <tr>\n",
       "      <th>3</th>\n",
       "      <td>M</td>\n",
       "      <td>AT&amp;T</td>\n",
       "      <td>Smart</td>\n",
       "      <td>Very high</td>\n",
       "      <td>2</td>\n",
       "      <td>3</td>\n",
       "      <td>3</td>\n",
       "    </tr>\n",
       "    <tr>\n",
       "      <th>4</th>\n",
       "      <td>M</td>\n",
       "      <td>AT&amp;T</td>\n",
       "      <td>Smart</td>\n",
       "      <td>Very high</td>\n",
       "      <td>5</td>\n",
       "      <td>5</td>\n",
       "      <td>2</td>\n",
       "    </tr>\n",
       "    <tr>\n",
       "      <th>5</th>\n",
       "      <td>M</td>\n",
       "      <td>AT&amp;T</td>\n",
       "      <td>Smart</td>\n",
       "      <td>Very high</td>\n",
       "      <td>4</td>\n",
       "      <td>3</td>\n",
       "      <td>5</td>\n",
       "    </tr>\n",
       "    <tr>\n",
       "      <th>6</th>\n",
       "      <td>M</td>\n",
       "      <td>AT&amp;T</td>\n",
       "      <td>Smart</td>\n",
       "      <td>Very high</td>\n",
       "      <td>3</td>\n",
       "      <td>4</td>\n",
       "      <td>4</td>\n",
       "    </tr>\n",
       "    <tr>\n",
       "      <th>7</th>\n",
       "      <td>F</td>\n",
       "      <td>AT&amp;T</td>\n",
       "      <td>Smart</td>\n",
       "      <td>Very high</td>\n",
       "      <td>3</td>\n",
       "      <td>2</td>\n",
       "      <td>3</td>\n",
       "    </tr>\n",
       "    <tr>\n",
       "      <th>8</th>\n",
       "      <td>F</td>\n",
       "      <td>AT&amp;T</td>\n",
       "      <td>Smart</td>\n",
       "      <td>Very high</td>\n",
       "      <td>4</td>\n",
       "      <td>3</td>\n",
       "      <td>4</td>\n",
       "    </tr>\n",
       "    <tr>\n",
       "      <th>9</th>\n",
       "      <td>M</td>\n",
       "      <td>AT&amp;T</td>\n",
       "      <td>Smart</td>\n",
       "      <td>Very high</td>\n",
       "      <td>3</td>\n",
       "      <td>3</td>\n",
       "      <td>1</td>\n",
       "    </tr>\n",
       "    <tr>\n",
       "      <th>10</th>\n",
       "      <td>M</td>\n",
       "      <td>Other</td>\n",
       "      <td>Smart</td>\n",
       "      <td>Average</td>\n",
       "      <td>1</td>\n",
       "      <td>2</td>\n",
       "      <td>4</td>\n",
       "    </tr>\n",
       "    <tr>\n",
       "      <th>11</th>\n",
       "      <td>M</td>\n",
       "      <td>Sprint</td>\n",
       "      <td>Smart</td>\n",
       "      <td>Very high</td>\n",
       "      <td>3</td>\n",
       "      <td>5</td>\n",
       "      <td>4</td>\n",
       "    </tr>\n",
       "    <tr>\n",
       "      <th>12</th>\n",
       "      <td>M</td>\n",
       "      <td>Sprint</td>\n",
       "      <td>Smart</td>\n",
       "      <td>Very high</td>\n",
       "      <td>3</td>\n",
       "      <td>5</td>\n",
       "      <td>3</td>\n",
       "    </tr>\n",
       "    <tr>\n",
       "      <th>13</th>\n",
       "      <td>F</td>\n",
       "      <td>Sprint</td>\n",
       "      <td>Smart</td>\n",
       "      <td>Average</td>\n",
       "      <td>2</td>\n",
       "      <td>5</td>\n",
       "      <td>4</td>\n",
       "    </tr>\n",
       "    <tr>\n",
       "      <th>14</th>\n",
       "      <td>F</td>\n",
       "      <td>Sprint</td>\n",
       "      <td>Smart</td>\n",
       "      <td>Average</td>\n",
       "      <td>3</td>\n",
       "      <td>5</td>\n",
       "      <td>4</td>\n",
       "    </tr>\n",
       "    <tr>\n",
       "      <th>15</th>\n",
       "      <td>M</td>\n",
       "      <td>Verizon</td>\n",
       "      <td>Smart</td>\n",
       "      <td>Average</td>\n",
       "      <td>4</td>\n",
       "      <td>3</td>\n",
       "      <td>3</td>\n",
       "    </tr>\n",
       "    <tr>\n",
       "      <th>16</th>\n",
       "      <td>F</td>\n",
       "      <td>Verizon</td>\n",
       "      <td>Smart</td>\n",
       "      <td>Very high</td>\n",
       "      <td>4</td>\n",
       "      <td>3</td>\n",
       "      <td>2</td>\n",
       "    </tr>\n",
       "    <tr>\n",
       "      <th>17</th>\n",
       "      <td>M</td>\n",
       "      <td>Verizon</td>\n",
       "      <td>Smart</td>\n",
       "      <td>Very high</td>\n",
       "      <td>5</td>\n",
       "      <td>5</td>\n",
       "      <td>5</td>\n",
       "    </tr>\n",
       "    <tr>\n",
       "      <th>18</th>\n",
       "      <td>F</td>\n",
       "      <td>Verizon</td>\n",
       "      <td>Smart</td>\n",
       "      <td>Average</td>\n",
       "      <td>3</td>\n",
       "      <td>3</td>\n",
       "      <td>3</td>\n",
       "    </tr>\n",
       "    <tr>\n",
       "      <th>19</th>\n",
       "      <td>M</td>\n",
       "      <td>Verizon</td>\n",
       "      <td>Smart</td>\n",
       "      <td>Very high</td>\n",
       "      <td>4</td>\n",
       "      <td>4</td>\n",
       "      <td>2</td>\n",
       "    </tr>\n",
       "    <tr>\n",
       "      <th>20</th>\n",
       "      <td>F</td>\n",
       "      <td>Verizon</td>\n",
       "      <td>Smart</td>\n",
       "      <td>Very high</td>\n",
       "      <td>4</td>\n",
       "      <td>5</td>\n",
       "      <td>3</td>\n",
       "    </tr>\n",
       "    <tr>\n",
       "      <th>21</th>\n",
       "      <td>M</td>\n",
       "      <td>AT&amp;T</td>\n",
       "      <td>Camera</td>\n",
       "      <td>Average</td>\n",
       "      <td>5</td>\n",
       "      <td>4</td>\n",
       "      <td>5</td>\n",
       "    </tr>\n",
       "    <tr>\n",
       "      <th>22</th>\n",
       "      <td>M</td>\n",
       "      <td>AT&amp;T</td>\n",
       "      <td>Camera</td>\n",
       "      <td>Very high</td>\n",
       "      <td>2</td>\n",
       "      <td>1</td>\n",
       "      <td>3</td>\n",
       "    </tr>\n",
       "    <tr>\n",
       "      <th>23</th>\n",
       "      <td>M</td>\n",
       "      <td>AT&amp;T</td>\n",
       "      <td>Camera</td>\n",
       "      <td>Average</td>\n",
       "      <td>2</td>\n",
       "      <td>4</td>\n",
       "      <td>3</td>\n",
       "    </tr>\n",
       "    <tr>\n",
       "      <th>24</th>\n",
       "      <td>F</td>\n",
       "      <td>AT&amp;T</td>\n",
       "      <td>Camera</td>\n",
       "      <td>Very high</td>\n",
       "      <td>3</td>\n",
       "      <td>3</td>\n",
       "      <td>3</td>\n",
       "    </tr>\n",
       "    <tr>\n",
       "      <th>25</th>\n",
       "      <td>M</td>\n",
       "      <td>AT&amp;T</td>\n",
       "      <td>Camera</td>\n",
       "      <td>Average</td>\n",
       "      <td>5</td>\n",
       "      <td>5</td>\n",
       "      <td>3</td>\n",
       "    </tr>\n",
       "    <tr>\n",
       "      <th>26</th>\n",
       "      <td>F</td>\n",
       "      <td>AT&amp;T</td>\n",
       "      <td>Camera</td>\n",
       "      <td>Average</td>\n",
       "      <td>4</td>\n",
       "      <td>3</td>\n",
       "      <td>3</td>\n",
       "    </tr>\n",
       "    <tr>\n",
       "      <th>27</th>\n",
       "      <td>M</td>\n",
       "      <td>AT&amp;T</td>\n",
       "      <td>Camera</td>\n",
       "      <td>Average</td>\n",
       "      <td>4</td>\n",
       "      <td>2</td>\n",
       "      <td>4</td>\n",
       "    </tr>\n",
       "    <tr>\n",
       "      <th>28</th>\n",
       "      <td>F</td>\n",
       "      <td>AT&amp;T</td>\n",
       "      <td>Camera</td>\n",
       "      <td>Very high</td>\n",
       "      <td>2</td>\n",
       "      <td>4</td>\n",
       "      <td>1</td>\n",
       "    </tr>\n",
       "    <tr>\n",
       "      <th>29</th>\n",
       "      <td>F</td>\n",
       "      <td>AT&amp;T</td>\n",
       "      <td>Camera</td>\n",
       "      <td>Average</td>\n",
       "      <td>2</td>\n",
       "      <td>4</td>\n",
       "      <td>3</td>\n",
       "    </tr>\n",
       "    <tr>\n",
       "      <th>30</th>\n",
       "      <td>M</td>\n",
       "      <td>AT&amp;T</td>\n",
       "      <td>Camera</td>\n",
       "      <td>Average</td>\n",
       "      <td>3</td>\n",
       "      <td>3</td>\n",
       "      <td>4</td>\n",
       "    </tr>\n",
       "    <tr>\n",
       "      <th>31</th>\n",
       "      <td>F</td>\n",
       "      <td>AT&amp;T</td>\n",
       "      <td>Camera</td>\n",
       "      <td>Very high</td>\n",
       "      <td>3</td>\n",
       "      <td>2</td>\n",
       "      <td>3</td>\n",
       "    </tr>\n",
       "    <tr>\n",
       "      <th>32</th>\n",
       "      <td>M</td>\n",
       "      <td>AT&amp;T</td>\n",
       "      <td>Camera</td>\n",
       "      <td>Very high</td>\n",
       "      <td>4</td>\n",
       "      <td>3</td>\n",
       "      <td>3</td>\n",
       "    </tr>\n",
       "    <tr>\n",
       "      <th>33</th>\n",
       "      <td>F</td>\n",
       "      <td>AT&amp;T</td>\n",
       "      <td>Camera</td>\n",
       "      <td>Low</td>\n",
       "      <td>4</td>\n",
       "      <td>2</td>\n",
       "      <td>3</td>\n",
       "    </tr>\n",
       "    <tr>\n",
       "      <th>34</th>\n",
       "      <td>M</td>\n",
       "      <td>Other</td>\n",
       "      <td>Camera</td>\n",
       "      <td>Average</td>\n",
       "      <td>3</td>\n",
       "      <td>3</td>\n",
       "      <td>3</td>\n",
       "    </tr>\n",
       "    <tr>\n",
       "      <th>35</th>\n",
       "      <td>F</td>\n",
       "      <td>Other</td>\n",
       "      <td>Camera</td>\n",
       "      <td>Average</td>\n",
       "      <td>2</td>\n",
       "      <td>3</td>\n",
       "      <td>3</td>\n",
       "    </tr>\n",
       "    <tr>\n",
       "      <th>36</th>\n",
       "      <td>M</td>\n",
       "      <td>Other</td>\n",
       "      <td>Camera</td>\n",
       "      <td>Average</td>\n",
       "      <td>4</td>\n",
       "      <td>3</td>\n",
       "      <td>4</td>\n",
       "    </tr>\n",
       "    <tr>\n",
       "      <th>37</th>\n",
       "      <td>M</td>\n",
       "      <td>Sprint</td>\n",
       "      <td>Camera</td>\n",
       "      <td>Average</td>\n",
       "      <td>3</td>\n",
       "      <td>4</td>\n",
       "      <td>4</td>\n",
       "    </tr>\n",
       "    <tr>\n",
       "      <th>38</th>\n",
       "      <td>F</td>\n",
       "      <td>Verizon</td>\n",
       "      <td>Camera</td>\n",
       "      <td>Very high</td>\n",
       "      <td>3</td>\n",
       "      <td>4</td>\n",
       "      <td>3</td>\n",
       "    </tr>\n",
       "    <tr>\n",
       "      <th>39</th>\n",
       "      <td>F</td>\n",
       "      <td>Verizon</td>\n",
       "      <td>Camera</td>\n",
       "      <td>Very high</td>\n",
       "      <td>4</td>\n",
       "      <td>3</td>\n",
       "      <td>1</td>\n",
       "    </tr>\n",
       "    <tr>\n",
       "      <th>40</th>\n",
       "      <td>M</td>\n",
       "      <td>AT&amp;T</td>\n",
       "      <td>Basic</td>\n",
       "      <td>Average</td>\n",
       "      <td>3</td>\n",
       "      <td>3</td>\n",
       "      <td>3</td>\n",
       "    </tr>\n",
       "    <tr>\n",
       "      <th>41</th>\n",
       "      <td>M</td>\n",
       "      <td>AT&amp;T</td>\n",
       "      <td>Basic</td>\n",
       "      <td>Average</td>\n",
       "      <td>3</td>\n",
       "      <td>3</td>\n",
       "      <td>2</td>\n",
       "    </tr>\n",
       "    <tr>\n",
       "      <th>42</th>\n",
       "      <td>M</td>\n",
       "      <td>AT&amp;T</td>\n",
       "      <td>Basic</td>\n",
       "      <td>Low</td>\n",
       "      <td>3</td>\n",
       "      <td>3</td>\n",
       "      <td>3</td>\n",
       "    </tr>\n",
       "    <tr>\n",
       "      <th>43</th>\n",
       "      <td>M</td>\n",
       "      <td>Other</td>\n",
       "      <td>Basic</td>\n",
       "      <td>Average</td>\n",
       "      <td>3</td>\n",
       "      <td>3</td>\n",
       "      <td>5</td>\n",
       "    </tr>\n",
       "    <tr>\n",
       "      <th>44</th>\n",
       "      <td>M</td>\n",
       "      <td>Other</td>\n",
       "      <td>Basic</td>\n",
       "      <td>Very high</td>\n",
       "      <td>4</td>\n",
       "      <td>3</td>\n",
       "      <td>3</td>\n",
       "    </tr>\n",
       "    <tr>\n",
       "      <th>45</th>\n",
       "      <td>M</td>\n",
       "      <td>Other</td>\n",
       "      <td>Basic</td>\n",
       "      <td>Very high</td>\n",
       "      <td>1</td>\n",
       "      <td>3</td>\n",
       "      <td>4</td>\n",
       "    </tr>\n",
       "    <tr>\n",
       "      <th>46</th>\n",
       "      <td>M</td>\n",
       "      <td>Other</td>\n",
       "      <td>Basic</td>\n",
       "      <td>Low</td>\n",
       "      <td>4</td>\n",
       "      <td>4</td>\n",
       "      <td>2</td>\n",
       "    </tr>\n",
       "    <tr>\n",
       "      <th>47</th>\n",
       "      <td>F</td>\n",
       "      <td>Other</td>\n",
       "      <td>Basic</td>\n",
       "      <td>Average</td>\n",
       "      <td>2</td>\n",
       "      <td>3</td>\n",
       "      <td>3</td>\n",
       "    </tr>\n",
       "    <tr>\n",
       "      <th>48</th>\n",
       "      <td>F</td>\n",
       "      <td>T-mobile</td>\n",
       "      <td>Basic</td>\n",
       "      <td>Low</td>\n",
       "      <td>3</td>\n",
       "      <td>4</td>\n",
       "      <td>4</td>\n",
       "    </tr>\n",
       "    <tr>\n",
       "      <th>49</th>\n",
       "      <td>M</td>\n",
       "      <td>T-mobile</td>\n",
       "      <td>Basic</td>\n",
       "      <td>Average</td>\n",
       "      <td>3</td>\n",
       "      <td>4</td>\n",
       "      <td>3</td>\n",
       "    </tr>\n",
       "    <tr>\n",
       "      <th>50</th>\n",
       "      <td>M</td>\n",
       "      <td>Verizon</td>\n",
       "      <td>Basic</td>\n",
       "      <td>Low</td>\n",
       "      <td>3</td>\n",
       "      <td>3</td>\n",
       "      <td>4</td>\n",
       "    </tr>\n",
       "    <tr>\n",
       "      <th>51</th>\n",
       "      <td>M</td>\n",
       "      <td>Verizon</td>\n",
       "      <td>Basic</td>\n",
       "      <td>Average</td>\n",
       "      <td>4</td>\n",
       "      <td>2</td>\n",
       "      <td>4</td>\n",
       "    </tr>\n",
       "  </tbody>\n",
       "</table>\n",
       "</div>"
      ],
      "text/plain": [
       "   Gender   Carrier    Type      Usage  Signal strength  Value for the Dollar  \\\n",
       "0       M      AT&T   Smart       High                5                     4   \n",
       "1       M      AT&T   Smart       High                5                     4   \n",
       "2       M      AT&T   Smart    Average                4                     4   \n",
       "3       M      AT&T   Smart  Very high                2                     3   \n",
       "4       M      AT&T   Smart  Very high                5                     5   \n",
       "5       M      AT&T   Smart  Very high                4                     3   \n",
       "6       M      AT&T   Smart  Very high                3                     4   \n",
       "7       F      AT&T   Smart  Very high                3                     2   \n",
       "8       F      AT&T   Smart  Very high                4                     3   \n",
       "9       M      AT&T   Smart  Very high                3                     3   \n",
       "10      M     Other   Smart    Average                1                     2   \n",
       "11      M    Sprint   Smart  Very high                3                     5   \n",
       "12      M    Sprint   Smart  Very high                3                     5   \n",
       "13      F    Sprint   Smart    Average                2                     5   \n",
       "14      F    Sprint   Smart    Average                3                     5   \n",
       "15      M   Verizon   Smart    Average                4                     3   \n",
       "16      F   Verizon   Smart  Very high                4                     3   \n",
       "17      M   Verizon   Smart  Very high                5                     5   \n",
       "18      F   Verizon   Smart    Average                3                     3   \n",
       "19      M   Verizon   Smart  Very high                4                     4   \n",
       "20      F   Verizon   Smart  Very high                4                     5   \n",
       "21      M      AT&T  Camera    Average                5                     4   \n",
       "22      M      AT&T  Camera  Very high                2                     1   \n",
       "23      M      AT&T  Camera    Average                2                     4   \n",
       "24      F      AT&T  Camera  Very high                3                     3   \n",
       "25      M      AT&T  Camera    Average                5                     5   \n",
       "26      F      AT&T  Camera    Average                4                     3   \n",
       "27      M      AT&T  Camera    Average                4                     2   \n",
       "28      F      AT&T  Camera  Very high                2                     4   \n",
       "29      F      AT&T  Camera    Average                2                     4   \n",
       "30      M      AT&T  Camera    Average                3                     3   \n",
       "31      F      AT&T  Camera  Very high                3                     2   \n",
       "32      M      AT&T  Camera  Very high                4                     3   \n",
       "33      F      AT&T  Camera        Low                4                     2   \n",
       "34      M     Other  Camera    Average                3                     3   \n",
       "35      F     Other  Camera    Average                2                     3   \n",
       "36      M     Other  Camera    Average                4                     3   \n",
       "37      M    Sprint  Camera    Average                3                     4   \n",
       "38      F   Verizon  Camera  Very high                3                     4   \n",
       "39      F   Verizon  Camera  Very high                4                     3   \n",
       "40      M      AT&T   Basic    Average                3                     3   \n",
       "41      M      AT&T   Basic    Average                3                     3   \n",
       "42      M      AT&T   Basic        Low                3                     3   \n",
       "43      M     Other   Basic    Average                3                     3   \n",
       "44      M     Other   Basic  Very high                4                     3   \n",
       "45      M     Other   Basic  Very high                1                     3   \n",
       "46      M     Other   Basic        Low                4                     4   \n",
       "47      F     Other   Basic    Average                2                     3   \n",
       "48      F  T-mobile   Basic        Low                3                     4   \n",
       "49      M  T-mobile   Basic    Average                3                     4   \n",
       "50      M   Verizon   Basic        Low                3                     3   \n",
       "51      M   Verizon   Basic    Average                4                     2   \n",
       "\n",
       "    Customer Service  \n",
       "0                  4  \n",
       "1                  2  \n",
       "2                  4  \n",
       "3                  3  \n",
       "4                  2  \n",
       "5                  5  \n",
       "6                  4  \n",
       "7                  3  \n",
       "8                  4  \n",
       "9                  1  \n",
       "10                 4  \n",
       "11                 4  \n",
       "12                 3  \n",
       "13                 4  \n",
       "14                 4  \n",
       "15                 3  \n",
       "16                 2  \n",
       "17                 5  \n",
       "18                 3  \n",
       "19                 2  \n",
       "20                 3  \n",
       "21                 5  \n",
       "22                 3  \n",
       "23                 3  \n",
       "24                 3  \n",
       "25                 3  \n",
       "26                 3  \n",
       "27                 4  \n",
       "28                 1  \n",
       "29                 3  \n",
       "30                 4  \n",
       "31                 3  \n",
       "32                 3  \n",
       "33                 3  \n",
       "34                 3  \n",
       "35                 3  \n",
       "36                 4  \n",
       "37                 4  \n",
       "38                 3  \n",
       "39                 1  \n",
       "40                 3  \n",
       "41                 2  \n",
       "42                 3  \n",
       "43                 5  \n",
       "44                 3  \n",
       "45                 4  \n",
       "46                 2  \n",
       "47                 3  \n",
       "48                 4  \n",
       "49                 3  \n",
       "50                 4  \n",
       "51                 4  "
      ]
     },
     "execution_count": 13,
     "metadata": {},
     "output_type": "execute_result"
    }
   ],
   "source": [
    "import pandas as pd\n",
    "import numpy as np\n",
    "\n",
    "df= pd.read_csv(r\"C:\\Users\\Dell\\Downloads\\Cell Phone Survey.csv\")\n",
    "df"
   ]
  },
  {
   "cell_type": "code",
   "execution_count": 9,
   "metadata": {},
   "outputs": [
    {
     "data": {
      "text/plain": [
       "Gender                  object\n",
       "Carrier                 object\n",
       "Type                    object\n",
       "Usage                   object\n",
       "Signal strength          int64\n",
       "Value for the Dollar     int64\n",
       "Customer Service         int64\n",
       "dtype: object"
      ]
     },
     "execution_count": 9,
     "metadata": {},
     "output_type": "execute_result"
    }
   ],
   "source": [
    "#10 A Checking datatypes of each column in the dataset.\n",
    "\n",
    "import pandas as pd\n",
    "import numpy as np\n",
    "\n",
    "df= pd.read_csv(r\"C:\\Users\\Dell\\Downloads\\Cell Phone Survey.csv\")\n",
    "df\n",
    "df.dtypes"
   ]
  },
  {
   "cell_type": "code",
   "execution_count": 10,
   "metadata": {},
   "outputs": [
    {
     "data": {
      "text/plain": [
       "3.3076923076923075"
      ]
     },
     "execution_count": 10,
     "metadata": {},
     "output_type": "execute_result"
    }
   ],
   "source": [
    "#10 B Find Mean of Signal strength column using Pandas and Statistics library\n",
    "#(i) using pandas library\n",
    "\n",
    "import pandas as pd\n",
    "df_mean=df['Signal strength'].mean()\n",
    "df_mean"
   ]
  },
  {
   "cell_type": "code",
   "execution_count": 17,
   "metadata": {},
   "outputs": [
    {
     "data": {
      "text/plain": [
       "3.3076923076923075"
      ]
     },
     "execution_count": 17,
     "metadata": {},
     "output_type": "execute_result"
    }
   ],
   "source": [
    "#(ii) using statistics library\n",
    "\n",
    "import statistics as stats\n",
    "df_mode_2=stats.mean(df['Signal strength'])\n",
    "df_mode_2"
   ]
  },
  {
   "cell_type": "code",
   "execution_count": 20,
   "metadata": {},
   "outputs": [
    {
     "data": {
      "text/plain": [
       "3.0"
      ]
     },
     "execution_count": 20,
     "metadata": {},
     "output_type": "execute_result"
    }
   ],
   "source": [
    "#10 C Find the Median of Customer Service column using Pandas and Statistics library.\n",
    "#(iii)using pandas library\n",
    "\n",
    "import pandas as pd\n",
    "df_median=df['Customer Service'].median()\n",
    "df_median"
   ]
  },
  {
   "cell_type": "code",
   "execution_count": 22,
   "metadata": {},
   "outputs": [
    {
     "data": {
      "text/plain": [
       "3.0"
      ]
     },
     "execution_count": 22,
     "metadata": {},
     "output_type": "execute_result"
    }
   ],
   "source": [
    "#(iii)using statistics library\n",
    "\n",
    "import statistics as stats\n",
    "df_median_3=stats.median(df['Customer Service'])\n",
    "df_median_3"
   ]
  },
  {
   "cell_type": "code",
   "execution_count": 6,
   "metadata": {},
   "outputs": [
    {
     "data": {
      "text/plain": [
       "0    3\n",
       "Name: Signal strength, dtype: int64"
      ]
     },
     "execution_count": 6,
     "metadata": {},
     "output_type": "execute_result"
    }
   ],
   "source": [
    "#10 D Find Mode of Signal strength column using Pandas and Statistics library.\n",
    "#(i) using pandas library\n",
    "import pandas as pd\n",
    "df_mode=df['Signal strength'].mode()\n",
    "df_mode"
   ]
  },
  {
   "cell_type": "code",
   "execution_count": 8,
   "metadata": {},
   "outputs": [
    {
     "data": {
      "text/plain": [
       "3"
      ]
     },
     "execution_count": 8,
     "metadata": {},
     "output_type": "execute_result"
    }
   ],
   "source": [
    "#(ii) using statistics library\n",
    "import statistics as stats\n",
    "df_mode_1=stats.mode(df['Signal strength'])\n",
    "df_mode_1"
   ]
  },
  {
   "cell_type": "code",
   "execution_count": 26,
   "metadata": {},
   "outputs": [
    {
     "data": {
      "text/plain": [
       "0.9623375261979594"
      ]
     },
     "execution_count": 26,
     "metadata": {},
     "output_type": "execute_result"
    }
   ],
   "source": [
    "#10 E  Find Standard deviation of Customer Service column using Pandas and Statistics library.\n",
    "#(i) using pandas library\n",
    "import pandas as pd\n",
    "df_stdev=df['Customer Service'].std()\n",
    "df_stdev\n"
   ]
  },
  {
   "cell_type": "code",
   "execution_count": 27,
   "metadata": {},
   "outputs": [
    {
     "data": {
      "text/plain": [
       "0.9623375261979595"
      ]
     },
     "execution_count": 27,
     "metadata": {},
     "output_type": "execute_result"
    }
   ],
   "source": [
    "#(ii) using statistics library\n",
    "import statistics as stats\n",
    "df_std_4=stats.stdev(df['Customer Service'])\n",
    "df_std_4"
   ]
  },
  {
   "cell_type": "code",
   "execution_count": 28,
   "metadata": {},
   "outputs": [
    {
     "data": {
      "text/plain": [
       "0.9260935143288083"
      ]
     },
     "execution_count": 28,
     "metadata": {},
     "output_type": "execute_result"
    }
   ],
   "source": [
    "#10 F  Find Variance of Customer Service column using Pandas and Statistics library.\n",
    "#(i)using pandas library\n",
    "import pandas as pd\n",
    "df_variance=df['Customer Service'].var()\n",
    "df_variance\n"
   ]
  },
  {
   "cell_type": "code",
   "execution_count": 29,
   "metadata": {},
   "outputs": [
    {
     "data": {
      "text/plain": [
       "0.9260935143288085"
      ]
     },
     "execution_count": 29,
     "metadata": {},
     "output_type": "execute_result"
    }
   ],
   "source": [
    "#(ii) using statistics library\n",
    "import statistics as stats\n",
    "df_var_5=stats.variance(df['Customer Service'])\n",
    "df_var_5"
   ]
  },
  {
   "cell_type": "code",
   "execution_count": 48,
   "metadata": {},
   "outputs": [
    {
     "data": {
      "text/plain": [
       "array([2., 3., 3., 3., 3., 4., 4., 4., 5., 5.])"
      ]
     },
     "execution_count": 48,
     "metadata": {},
     "output_type": "execute_result"
    }
   ],
   "source": [
    "#10 G  Calculate Percentiles of Value for the Dollar column using Numpy.\n",
    "\n",
    "import numpy as np\n",
    "df_dollar=df['Value for the Dollar']\n",
    "percentile=range(10,110,10)\n",
    "df_percentile=np.percentile(df_dollar,percentile)\n",
    "df_percentile\n"
   ]
  },
  {
   "cell_type": "code",
   "execution_count": 42,
   "metadata": {},
   "outputs": [
    {
     "data": {
      "text/plain": [
       "4"
      ]
     },
     "execution_count": 42,
     "metadata": {},
     "output_type": "execute_result"
    }
   ],
   "source": [
    "#10 H Calculate Range of Value for the Dollar column using Pandas.\n",
    "import pandas as pd\n",
    "df_range=df['Value for the Dollar'].max()-df['Value for the Dollar'].min()\n",
    "df_range"
   ]
  },
  {
   "cell_type": "code",
   "execution_count": 44,
   "metadata": {},
   "outputs": [
    {
     "data": {
      "text/plain": [
       "1.0"
      ]
     },
     "execution_count": 44,
     "metadata": {},
     "output_type": "execute_result"
    }
   ],
   "source": [
    "#10 I  Calculate IQR of Value for the Dollar column using Pandas.\n",
    "import pandas as pd\n",
    "df_percentile_25=df['Value for the Dollar'].quantile(0.25)\n",
    "df_percentile_75=df['Value for the Dollar'].quantile(0.75)\n",
    "IQR=df_percentile_75-df_percentile_25\n",
    "IQR"
   ]
  },
  {
   "cell_type": "code",
   "execution_count": 6,
   "metadata": {},
   "outputs": [
    {
     "name": "stdout",
     "output_type": "stream",
     "text": [
      "F-value: 3.1111943528010304\n",
      "p-value: 0.053454200712805613\n"
     ]
    },
    {
     "ename": "TypeError",
     "evalue": "The x variable is categorical, but one of ['numeric', 'datetime'] is required",
     "output_type": "error",
     "traceback": [
      "\u001b[1;31m---------------------------------------------------------------------------\u001b[0m",
      "\u001b[1;31mTypeError\u001b[0m                                 Traceback (most recent call last)",
      "Cell \u001b[1;32mIn[6], line 19\u001b[0m\n\u001b[0;32m     17\u001b[0m \u001b[39m# Create a box plot\u001b[39;00m\n\u001b[0;32m     18\u001b[0m plt\u001b[39m.\u001b[39mfigure(figsize\u001b[39m=\u001b[39m(\u001b[39m8\u001b[39m, \u001b[39m6\u001b[39m))\n\u001b[1;32m---> 19\u001b[0m sns\u001b[39m.\u001b[39;49mkdeplot(x\u001b[39m=\u001b[39;49m\u001b[39m'\u001b[39;49m\u001b[39mType\u001b[39;49m\u001b[39m'\u001b[39;49m, y\u001b[39m=\u001b[39;49m\u001b[39m'\u001b[39;49m\u001b[39mValue for the Dollar\u001b[39;49m\u001b[39m'\u001b[39;49m, data\u001b[39m=\u001b[39;49mdata)\n\u001b[0;32m     20\u001b[0m plt\u001b[39m.\u001b[39maxvline(grouped_data\u001b[39m.\u001b[39mmean(), color\u001b[39m=\u001b[39m\u001b[39m'\u001b[39m\u001b[39mr\u001b[39m\u001b[39m'\u001b[39m, linestyle\u001b[39m=\u001b[39m\u001b[39m'\u001b[39m\u001b[39mdashed\u001b[39m\u001b[39m'\u001b[39m, linewidth\u001b[39m=\u001b[39m\u001b[39m1\u001b[39m)\n\u001b[0;32m     21\u001b[0m plt\u001b[39m.\u001b[39mxlabel(\u001b[39m'\u001b[39m\u001b[39mType of Cell Phone\u001b[39m\u001b[39m'\u001b[39m)\n",
      "File \u001b[1;32mc:\\Users\\Dell\\anaconda3\\Lib\\site-packages\\seaborn\\distributions.py:1695\u001b[0m, in \u001b[0;36mkdeplot\u001b[1;34m(data, x, y, hue, weights, palette, hue_order, hue_norm, color, fill, multiple, common_norm, common_grid, cumulative, bw_method, bw_adjust, warn_singular, log_scale, levels, thresh, gridsize, cut, clip, legend, cbar, cbar_ax, cbar_kws, ax, **kwargs)\u001b[0m\n\u001b[0;32m   1692\u001b[0m \u001b[39mif\u001b[39;00m ax \u001b[39mis\u001b[39;00m \u001b[39mNone\u001b[39;00m:\n\u001b[0;32m   1693\u001b[0m     ax \u001b[39m=\u001b[39m plt\u001b[39m.\u001b[39mgca()\n\u001b[1;32m-> 1695\u001b[0m p\u001b[39m.\u001b[39;49m_attach(ax, allowed_types\u001b[39m=\u001b[39;49m[\u001b[39m\"\u001b[39;49m\u001b[39mnumeric\u001b[39;49m\u001b[39m\"\u001b[39;49m, \u001b[39m\"\u001b[39;49m\u001b[39mdatetime\u001b[39;49m\u001b[39m\"\u001b[39;49m], log_scale\u001b[39m=\u001b[39;49mlog_scale)\n\u001b[0;32m   1697\u001b[0m method \u001b[39m=\u001b[39m ax\u001b[39m.\u001b[39mfill_between \u001b[39mif\u001b[39;00m fill \u001b[39melse\u001b[39;00m ax\u001b[39m.\u001b[39mplot\n\u001b[0;32m   1698\u001b[0m color \u001b[39m=\u001b[39m _default_color(method, hue, color, kwargs)\n",
      "File \u001b[1;32mc:\\Users\\Dell\\anaconda3\\Lib\\site-packages\\seaborn\\_oldcore.py:1211\u001b[0m, in \u001b[0;36mVectorPlotter._attach\u001b[1;34m(self, obj, allowed_types, log_scale)\u001b[0m\n\u001b[0;32m   1206\u001b[0m     \u001b[39mif\u001b[39;00m var_type \u001b[39mnot\u001b[39;00m \u001b[39min\u001b[39;00m allowed_types:\n\u001b[0;32m   1207\u001b[0m         err \u001b[39m=\u001b[39m (\n\u001b[0;32m   1208\u001b[0m             \u001b[39mf\u001b[39m\u001b[39m\"\u001b[39m\u001b[39mThe \u001b[39m\u001b[39m{\u001b[39;00mvar\u001b[39m}\u001b[39;00m\u001b[39m variable is \u001b[39m\u001b[39m{\u001b[39;00mvar_type\u001b[39m}\u001b[39;00m\u001b[39m, but one of \u001b[39m\u001b[39m\"\u001b[39m\n\u001b[0;32m   1209\u001b[0m             \u001b[39mf\u001b[39m\u001b[39m\"\u001b[39m\u001b[39m{\u001b[39;00mallowed_types\u001b[39m}\u001b[39;00m\u001b[39m is required\u001b[39m\u001b[39m\"\u001b[39m\n\u001b[0;32m   1210\u001b[0m         )\n\u001b[1;32m-> 1211\u001b[0m         \u001b[39mraise\u001b[39;00m \u001b[39mTypeError\u001b[39;00m(err)\n\u001b[0;32m   1213\u001b[0m \u001b[39m# -- Get axis objects for each row in plot_data for type conversions and scaling\u001b[39;00m\n\u001b[0;32m   1215\u001b[0m facet_dim \u001b[39m=\u001b[39m {\u001b[39m\"\u001b[39m\u001b[39mx\u001b[39m\u001b[39m\"\u001b[39m: \u001b[39m\"\u001b[39m\u001b[39mcol\u001b[39m\u001b[39m\"\u001b[39m, \u001b[39m\"\u001b[39m\u001b[39my\u001b[39m\u001b[39m\"\u001b[39m: \u001b[39m\"\u001b[39m\u001b[39mrow\u001b[39m\u001b[39m\"\u001b[39m}\n",
      "\u001b[1;31mTypeError\u001b[0m: The x variable is categorical, but one of ['numeric', 'datetime'] is required"
     ]
    },
    {
     "data": {
      "image/png": "[encoded data removed]",
      "text/plain": [
       "<Figure size 800x600 with 1 Axes>"
      ]
     },
     "metadata": {},
     "output_type": "display_data"
    }
   ],
   "source": [
    "#10 J  Hypothesis Testing - Using the data in the Cell Phone Survey dataset, apply ANOVA to determine if the mean response for\n",
    "#Value for dollar is the same for different types of cell phones.\n",
    "\n",
    "import pandas as pd\n",
    "import matplotlib.pyplot as plt\n",
    "import seaborn as sns\n",
    "import scipy.stats as stats\n",
    "\n",
    "data = pd.read_csv('C:\\\\Users\\\\Dell\\\\Downloads\\\\Cell Phone Survey.csv')\n",
    "grouped_data = data.groupby('Type')['Value for the Dollar'].mean()\n",
    "grouped_data = data.groupby('Type')['Value for the Dollar'].apply(list)\n",
    "f_value, p_value = stats.f_oneway(*grouped_data)\n",
    "\n",
    "\n",
    "\n",
    "print(\"F-value:\", f_value)\n",
    "print(\"p-value:\", p_value)\n",
    "\n",
    "# Create a box plot\n",
    "plt.figure(figsize=(8, 6))\n",
    "sns.kdeplot(x='Type', y='Value for the Dollar', data=data)\n",
    "plt.axvline(grouped_data.mean(), color='r', linestyle='dashed', linewidth=1)\n",
    "plt.xlabel('Type of Cell Phone')\n",
    "plt.ylabel('Value for the Dollar')\n",
    "plt.title('Comparison of Value for the Dollar by Cell Phone Type')\n",
    "plt.show()\n"
   ]
  },
  {
   "cell_type": "code",
   "execution_count": 7,
   "metadata": {},
   "outputs": [
    {
     "name": "stderr",
     "output_type": "stream",
     "text": [
      "C:\\Users\\Dell\\AppData\\Local\\Temp\\ipykernel_7816\\2992046045.py:14: FutureWarning: \n",
      "\n",
      "`shade` is now deprecated in favor of `fill`; setting `fill=True`.\n",
      "This will become an error in seaborn v0.14.0; please update your code.\n",
      "\n",
      "  sns.kdeplot(grouped_data,shade=True, color='b')\n"
     ]
    },
    {
     "data": {
      "image/png": "[encoded data removed]",
      "text/plain": [
       "<Figure size 640x480 with 1 Axes>"
      ]
     },
     "metadata": {},
     "output_type": "display_data"
    }
   ],
   "source": [
    "import pandas as pd\n",
    "import scipy.stats as stats\n",
    "import matplotlib.pyplot as plt\n",
    "import seaborn as sns\n",
    "\n",
    "data = pd.read_csv('C:\\\\Users\\\\Dell\\\\Downloads\\\\Cell Phone Survey.csv')\n",
    "\n",
    "grouped_data = data.groupby('Type')['Value for the Dollar'].mean()\n",
    "types = grouped_data.index\n",
    "mean_values = grouped_data.values\n",
    "\n",
    "f_value, p_value = stats.f_oneway(*data.groupby('Type')['Value for the Dollar'].apply(list))\n",
    "\n",
    "sns.kdeplot(grouped_data,shade=True, color='b')\n",
    "plt.axvline(grouped_data.mean(), color='r', linestyle='dashed', linewidth=1)\n",
    "plt.xlabel('Cell Phone Type')\n",
    "plt.ylabel('Mean Value for the Dollar')\n",
    "plt.title('Mean Value for the Dollar by Cell Phone Type')\n",
    "plt.grid(True)\n",
    "plt.show()\n"
   ]
  },
  {
   "cell_type": "code",
   "execution_count": 11,
   "metadata": {},
   "outputs": [
    {
     "name": "stdout",
     "output_type": "stream",
     "text": [
      "F-statistic: 3.111194352801031\n",
      "p-value: 0.05345420071280545\n"
     ]
    },
    {
     "name": "stderr",
     "output_type": "stream",
     "text": [
      "C:\\Users\\Dell\\AppData\\Local\\Temp\\ipykernel_8692\\4046428403.py:27: FutureWarning: \n",
      "\n",
      "`shade` is now deprecated in favor of `fill`; setting `fill=True`.\n",
      "This will become an error in seaborn v0.14.0; please update your code.\n",
      "\n",
      "  sns.kdeplot(value_column, shade=True, color='b')\n"
     ]
    },
    {
     "data": {
      "image/png": "[encoded data removed]",
      "text/plain": [
       "<Figure size 1000x600 with 1 Axes>"
      ]
     },
     "metadata": {},
     "output_type": "display_data"
    }
   ],
   "source": [
    "import pandas as pd\n",
    "import scipy.stats as stats\n",
    "import matplotlib.pyplot as plt\n",
    "import seaborn as sns\n",
    "\n",
    "# Load the Cell Phone Survey dataset\n",
    "df = pd.read_csv(r\"C:\\Users\\Dell\\Downloads\\Cell Phone Survey.csv\")\n",
    "\n",
    "# Extract the Value for dollar column and the different types of cell phones\n",
    "value_column = df['Value for the Dollar']\n",
    "cell_phone_types = df['Type'].unique()\n",
    "\n",
    "# Perform ANOVA\n",
    "groups = []\n",
    "for cell_phone_type in cell_phone_types:\n",
    "    group = value_column[df['Type'] == cell_phone_type]\n",
    "    groups.append(group)\n",
    "    \n",
    "f_statistic, p_value = stats.f_oneway(*groups)\n",
    "\n",
    "# Print ANOVA results\n",
    "print(\"F-statistic:\", f_statistic)\n",
    "print(\"p-value:\", p_value)\n",
    "\n",
    "# Create the bell curve line graph\n",
    "plt.figure(figsize=(10, 6))\n",
    "sns.kdeplot(value_column, shade=True, color='b')\n",
    "plt.axvline(value_column.mean(), color='r', linestyle='dashed', linewidth=1)\n",
    "plt.xlabel('Value for the dollar')\n",
    "plt.ylabel('Density')\n",
    "plt.title('Distribution of Value for dollar')\n",
    "plt.legend(['Value for dollar', 'Mean'])\n",
    "plt.show()\n"
   ]
  },
  {
   "cell_type": "code",
   "execution_count": 1,
   "metadata": {},
   "outputs": [
    {
     "name": "stdout",
     "output_type": "stream",
     "text": [
      "Fail to reject the null hypothesis (Ho)\n"
     ]
    },
    {
     "data": {
      "image/png": "[encoded data removed]",
      "text/plain": [
       "<Figure size 640x480 with 1 Axes>"
      ]
     },
     "metadata": {},
     "output_type": "display_data"
    }
   ],
   "source": [
    "import numpy as np\n",
    "import matplotlib.pyplot as plt\n",
    "import scipy.stats as stats\n",
    "\n",
    "# Step 2: Define the sample statistics and parameters.\n",
    "sample_mean = 60  # Mean time spent by the sample users\n",
    "population_mean = 50  # Population mean time spent by all users\n",
    "sample_size = 25  # Number of users in the sample\n",
    "sample_std_dev = 30  # Standard deviation of the sample\n",
    "\n",
    "# Step 3: Calculate the test statistic (z-score).\n",
    "standard_error = sample_std_dev / np.sqrt(sample_size)  # Standard error\n",
    "z_score = (sample_mean - population_mean) / standard_error  # Calculate the z-score\n",
    "\n",
    "# Step 4: Calculate the critical value for the given significance level (5% or 0.05).\n",
    "alpha = 0.05  # Significance level\n",
    "critical_value = stats.norm.ppf(1 - alpha/2)  # Calculate the critical value\n",
    "\n",
    "# Step 5: Compare the test statistic with the critical value and make a decision.\n",
    "if abs(z_score) > critical_value:\n",
    "    print(\"Reject the null hypothesis (Ho)\")\n",
    "else:\n",
    "    print(\"Fail to reject the null hypothesis (Ho)\")\n",
    "\n",
    "# Step 6: Plot the bell curve with the null hypothesis mean and the sample mean.\n",
    "x = np.linspace(population_mean - 4*sample_std_dev, population_mean + 4*sample_std_dev, 100)\n",
    "y = stats.norm.pdf(x, population_mean, sample_std_dev)\n",
    "\n",
    "plt.plot(x, y, label='Null Hypothesis')\n",
    "plt.axvline(x=sample_mean, color='r', linestyle='--', label='Sample Mean')\n",
    "plt.xlabel('Time (minutes)')\n",
    "plt.ylabel('Probability Density')\n",
    "plt.title('Normal Distribution - Hypothesis Test')\n",
    "plt.legend()\n",
    "plt.show()\n"
   ]
  }
 ],
 "metadata": {
  "kernelspec": {
   "display_name": "Python 3",
   "language": "python",
   "name": "python3"
  },
  "language_info": {
   "codemirror_mode": {
    "name": "ipython",
    "version": 3
   },
   "file_extension": ".py",
   "mimetype": "text/x-python",
   "name": "python",
   "nbconvert_exporter": "python",
   "pygments_lexer": "ipython3",
   "version": "3.11.3"
  },
  "orig_nbformat": 4
 },
 "nbformat": 4,
 "nbformat_minor": 2
}
